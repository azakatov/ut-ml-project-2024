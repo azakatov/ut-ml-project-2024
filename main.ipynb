{
  "nbformat": 4,
  "nbformat_minor": 0,
  "metadata": {
    "colab": {
      "provenance": [],
      "authorship_tag": "ABX9TyNCaZx6OwyTSjtxTpHyCOgk",
      "include_colab_link": true
    },
    "kernelspec": {
      "name": "python3",
      "display_name": "Python 3"
    },
    "language_info": {
      "name": "python"
    }
  },
  "cells": [
    {
      "cell_type": "markdown",
      "metadata": {
        "id": "view-in-github",
        "colab_type": "text"
      },
      "source": [
        "<a href=\"https://colab.research.google.com/github/azakatov/ut-ml-project-2024/blob/main/main.ipynb\" target=\"_parent\"><img src=\"https://colab.research.google.com/assets/colab-badge.svg\" alt=\"Open In Colab\"/></a>"
      ]
    },
    {
      "cell_type": "markdown",
      "source": [
        "# Classification with an academic success dataset\n",
        "\n",
        "* Github: https://github.com/azakatov/ut-ml-project-2024\n",
        "* Kaggle: https://www.kaggle.com/competitions/playground-series-s4e6/overview\n"
      ],
      "metadata": {
        "id": "mqOO1ODOD8Dh"
      }
    },
    {
      "cell_type": "markdown",
      "source": [
        "For this project we follow a workflow proposed by Will Koehrsen on https://github.com/WillKoehrsen/machine-learning-project-walkthrough/blob/master/Machine%20Learning%20Project%20Part%201.ipynb.\n",
        "\n",
        "Applying this workflow, our report has the following structure:\n",
        "\n",
        "1. [Data cleaning and formatting](#data-cleaning-and-formatting)\n",
        "1. [Exploratory data analysis](#exploratory-data-analysis)\n",
        "1. [Feature engineering and selection](#feature-engineering-and-selection)\n",
        "1. [Baseline model establishing](#baseline-model-establishing)\n",
        "1. [Models comparison](#models-comparison)\n",
        "1. [Hyperparameter tuning](#hyperparameter-tuning)\n",
        "1. [Model evaluation](#model-evaluation)\n",
        "1. [Results interpretation](#results-interpretation)\n",
        "1. [Conclusion](#conclusion)"
      ],
      "metadata": {
        "id": "6pAGJ0RZGRGm"
      }
    },
    {
      "cell_type": "markdown",
      "source": [
        "<a name=\"data-cleaning-and-formatting\"></a>\n",
        "## Data cleaning and formatting"
      ],
      "metadata": {
        "id": "h_0ygAz-E0Ib"
      }
    },
    {
      "cell_type": "code",
      "execution_count": null,
      "metadata": {
        "id": "PFflTGGXD1tY"
      },
      "outputs": [],
      "source": []
    },
    {
      "cell_type": "markdown",
      "source": [
        "<a name=\"exploratory-data-analysis\"></a>\n",
        "## Exploratory data analysis"
      ],
      "metadata": {
        "id": "s3850sxHIHwe"
      }
    },
    {
      "cell_type": "code",
      "source": [],
      "metadata": {
        "id": "BCQzgZxVIGg3"
      },
      "execution_count": null,
      "outputs": []
    },
    {
      "cell_type": "markdown",
      "source": [
        "<a name=\"feature-engineering-and-selection\"></a>\n",
        "## Feature engineering and selection"
      ],
      "metadata": {
        "id": "HmxP500AIXfz"
      }
    },
    {
      "cell_type": "code",
      "source": [],
      "metadata": {
        "id": "2gas6rsLIcMf"
      },
      "execution_count": null,
      "outputs": []
    },
    {
      "cell_type": "markdown",
      "source": [
        "<a name=\"baseline-model-establishing\"></a>\n",
        "## Baseline model establishing"
      ],
      "metadata": {
        "id": "UUwoxU1-IdIF"
      }
    },
    {
      "cell_type": "code",
      "source": [],
      "metadata": {
        "id": "LyxF8Ex4ImNo"
      },
      "execution_count": null,
      "outputs": []
    },
    {
      "cell_type": "markdown",
      "source": [
        "<a name=\"models-comparison\"></a>\n",
        "## Models comparison"
      ],
      "metadata": {
        "id": "jI0J4KBLIsGE"
      }
    },
    {
      "cell_type": "code",
      "source": [],
      "metadata": {
        "id": "mz4U8HjAIyXf"
      },
      "execution_count": null,
      "outputs": []
    },
    {
      "cell_type": "markdown",
      "source": [
        "<a name=\"hyperparameter-tuning\"></a>\n",
        "## Hyperparameter tuning"
      ],
      "metadata": {
        "id": "_ZzkLE5bI1sE"
      }
    },
    {
      "cell_type": "code",
      "source": [],
      "metadata": {
        "id": "RLSVcxW-I59Y"
      },
      "execution_count": null,
      "outputs": []
    },
    {
      "cell_type": "markdown",
      "source": [
        "<a name=\"model-evaluation\"></a>\n",
        "## Model evaluation"
      ],
      "metadata": {
        "id": "OvVdlgG7I-U-"
      }
    },
    {
      "cell_type": "code",
      "source": [],
      "metadata": {
        "id": "GEuxO_vCJCKH"
      },
      "execution_count": null,
      "outputs": []
    },
    {
      "cell_type": "markdown",
      "source": [
        "<a name=\"results-interpretation\"></a>\n",
        "## Results interpretation"
      ],
      "metadata": {
        "id": "2xELKsenJFaS"
      }
    },
    {
      "cell_type": "code",
      "source": [],
      "metadata": {
        "id": "bMhwuNlQJKL_"
      },
      "execution_count": null,
      "outputs": []
    },
    {
      "cell_type": "markdown",
      "source": [
        "<a name=\"conclusion\"></a>\n",
        "## Conclusion"
      ],
      "metadata": {
        "id": "tfEJp8yHJNlh"
      }
    },
    {
      "cell_type": "code",
      "source": [],
      "metadata": {
        "id": "E9R7pKy-JS5f"
      },
      "execution_count": null,
      "outputs": []
    }
  ]
}