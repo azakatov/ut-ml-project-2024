{
 "cells": [
  {
   "cell_type": "markdown",
   "metadata": {
    "colab_type": "text",
    "id": "view-in-github"
   },
   "source": [
    "<a href=\"https://colab.research.google.com/github/azakatov/ut-ml-project-2024/blob/update-colab-badge/main.ipynb\" target=\"_parent\"><img src=\"https://colab.research.google.com/assets/colab-badge.svg\" alt=\"Open In Colab\"/></a>"
   ]
  },
  {
   "cell_type": "markdown",
   "metadata": {
    "id": "img-main-button"
   },
   "source": [
    "<a href=\"#\" target=\"_parent\"><img src=\"https://i.imgur.com/gmPsjwh.png\"/></a>"
   ]
  },
  {
   "cell_type": "markdown",
   "metadata": {
    "id": "main-button"
   },
   "source": [
    "<a href=\"https://colab.research.google.com/github/azakatov/ut-ml-project-2024/blob/main/main.ipynb\" target=\"_parent\"><svg xmlns=\"http://www.w3.org/2000/svg\" xmlns:xlink=\"http://www.w3.org/1999/xlink\" width=\"117\" height=\"20\"><linearGradient id=\"b\" x2=\"0\" y2=\"100%\"><stop offset=\"0\" stop-color=\"#bbb\" stop-opacity=\".1\"/><stop offset=\"1\" stop-opacity=\".1\"/></linearGradient><clipPath id=\"a\"><rect width=\"117\" height=\"20\" rx=\"3\" fill=\"#fff\"/></clipPath><g clip-path=\"url(#a)\"><path fill=\"#555\" d=\"M0 0h30v20H0z\"/><path fill=\"#007ec6\" d=\"M30 0h87v20H30z\"/><path fill=\"url(#b)\" d=\"M0 0h117v20H0z\"/></g><g fill=\"#fff\" text-anchor=\"middle\" font-family=\"DejaVu Sans,Verdana,Geneva,sans-serif\" font-size=\"110\"><svg x=\"4px\" y=\"0px\" width=\"22px\" height=\"20px\" viewBox=\"-2 0 28 24\" style=\"background-color: #fff;border-radius: 1px;\"><path style=\"fill:#e8710a;\" d=\"M1.977,16.77c-2.667-2.277-2.605-7.079,0-9.357C2.919,8.057,3.522,9.075,4.49,9.691c-1.152,1.6-1.146,3.201-0.004,4.803C3.522,15.111,2.918,16.126,1.977,16.77z\"/><path style=\"fill:#f9ab00;\" d=\"M12.257,17.114c-1.767-1.633-2.485-3.658-2.118-6.02c0.451-2.91,2.139-4.893,4.946-5.678c2.565-0.718,4.964-0.217,6.878,1.819c-0.884,0.743-1.707,1.547-2.434,2.446C18.488,8.827,17.319,8.435,16,8.856c-2.404,0.767-3.046,3.241-1.494,5.644c-0.241,0.275-0.493,0.541-0.721,0.826C13.295,15.939,12.511,16.3,12.257,17.114z\"/><path style=\"fill:#e8710a;\" d=\"M19.529,9.682c0.727-0.899,1.55-1.703,2.434-2.446c2.703,2.783,2.701,7.031-0.005,9.764c-2.648,2.674-6.936,2.725-9.701,0.115c0.254-0.814,1.038-1.175,1.528-1.788c0.228-0.285,0.48-0.552,0.721-0.826c1.053,0.916,2.254,1.268,3.6,0.83C20.502,14.551,21.151,11.927,19.529,9.682z\"/><path style=\"fill:#f9ab00;\" d=\"M4.49,9.691C3.522,9.075,2.919,8.057,1.977,7.413c2.209-2.398,5.721-2.942,8.476-1.355c0.555,0.32,0.719,0.606,0.285,1.128c-0.157,0.188-0.258,0.422-0.391,0.631c-0.299,0.47-0.509,1.067-0.929,1.371C8.933,9.539,8.523,8.847,8.021,8.746C6.673,8.475,5.509,8.787,4.49,9.691z\"/><path style=\"fill:#f9ab00;\" d=\"M1.977,16.77c0.941-0.644,1.545-1.659,2.509-2.277c1.373,1.152,2.85,1.433,4.45,0.499c0.332-0.194,0.503-0.088,0.673,0.19c0.386,0.635,0.753,1.285,1.181,1.89c0.34,0.48,0.222,0.715-0.253,1.006C7.84,19.73,4.205,19.188,1.977,16.77z\"/></svg><text x=\"245\" y=\"140\" transform=\"scale(.1)\" textLength=\"30\"> </text><text x=\"725\" y=\"150\" fill=\"#010101\" fill-opacity=\".3\" transform=\"scale(.1)\" textLength=\"770\">Open in Colab</text><text x=\"725\" y=\"140\" transform=\"scale(.1)\" textLength=\"770\">Colab (main)</text></g> </svg></a>"
   ]
  },
  {
   "cell_type": "markdown",
   "metadata": {
    "id": "mqOO1ODOD8Dh"
   },
   "source": [
    "# Classification with an academic success dataset\n",
    "\n",
    "* Project members: Andres Alumets, Anton Zakatov, Pihla Järv, Muhammad Sohaib Anwar\n",
    "* Github: https://github.com/azakatov/ut-ml-project-2024\n",
    "* Kaggle: https://www.kaggle.com/competitions/playground-series-s4e6/overview\n"
   ]
  },
  {
   "cell_type": "markdown",
   "metadata": {
    "id": "6pAGJ0RZGRGm"
   },
   "source": [
    "For this project we follow a workflow proposed by Will Koehrsen on https://github.com/WillKoehrsen/machine-learning-project-walkthrough/blob/master/Machine%20Learning%20Project%20Part%201.ipynb.\n",
    "\n",
    "Applying this workflow, our report has the following structure:\n",
    "\n",
    "1. [Setup](#setup)\n",
    "1. [Data cleaning and formatting](#data-cleaning-and-formatting)\n",
    "1. [Exploratory data analysis](#exploratory-data-analysis)\n",
    "1. [Feature engineering and selection](#feature-engineering-and-selection)\n",
    "1. [Baseline model establishing](#baseline-model-establishing)\n",
    "1. [Models comparison](#models-comparison)\n",
    "1. [Hyperparameter tuning](#hyperparameter-tuning)\n",
    "1. [Model evaluation](#model-evaluation)\n",
    "1. [Results interpretation](#results-interpretation)\n",
    "1. [Conclusion](#conclusion)"
   ]
  },
  {
   "cell_type": "markdown",
   "metadata": {
    "id": "OvglYGYbUcR7"
   },
   "source": [
    "<a name=\"setup\"></a>\n",
    "## Setup"
   ]
  },
  {
   "cell_type": "markdown",
   "metadata": {
    "id": "ijv5xycyXC5e"
   },
   "source": [
    "### Common imports"
   ]
  },
  {
   "cell_type": "code",
   "execution_count": null,
   "metadata": {
    "id": "JbpesFP9Ueyt"
   },
   "outputs": [],
   "source": [
    "import numpy as np\n",
    "import pandas as pd\n",
    "\n",
    "# Show all columns in df\n",
    "pd.options.display.max_columns = None"
   ]
  },
  {
   "cell_type": "markdown",
   "metadata": {
    "id": "dncVCbUcXH0m"
   },
   "source": [
    "### Setting up Kaggle API"
   ]
  },
  {
   "cell_type": "code",
   "execution_count": null,
   "metadata": {
    "id": "GslKeb7ZWJSt"
   },
   "outputs": [],
   "source": [
    "from google.colab import files\n",
    "import json\n",
    "\n",
    "# Upload your Kaggle token to use its API\n",
    "files.upload();\n",
    "\n",
    "!mkdir /root/.kaggle/\n",
    "!mv kaggle.json /root/.kaggle/kaggle.json\n",
    "!chmod 600 ~/.kaggle/kaggle.json\n",
    "\n",
    "# Seems to work without this line but breaks data loading if present. Commenting it out\n",
    "#!kaggle config set -n path -v{/content}"
   ]
  },
  {
   "cell_type": "code",
   "execution_count": null,
   "metadata": {
    "id": "ynR5l90LWMe4"
   },
   "outputs": [],
   "source": [
    "# Load data\n",
    "!kaggle competitions download -c playground-series-s4e6\n",
    "!unzip playground-series-s4e6.zip"
   ]
  },
  {
   "cell_type": "markdown",
   "metadata": {
    "id": "h_0ygAz-E0Ib"
   },
   "source": [
    "<a name=\"data-cleaning-and-formatting\"></a>\n",
    "## Data cleaning and formatting"
   ]
  },
  {
   "cell_type": "code",
   "execution_count": null,
   "metadata": {
    "id": "PFflTGGXD1tY"
   },
   "outputs": [],
   "source": [
    "train = pd.read_csv('train.csv')\n",
    "test = pd.read_csv('test.csv')"
   ]
  },
  {
   "cell_type": "code",
   "execution_count": null,
   "metadata": {
    "id": "UBdfrA44X4NL"
   },
   "outputs": [],
   "source": [
    "train.head()"
   ]
  },
  {
   "cell_type": "markdown",
   "metadata": {
    "id": "s3850sxHIHwe"
   },
   "source": [
    "<a name=\"exploratory-data-analysis\"></a>\n",
    "## Exploratory data analysis"
   ]
  },
  {
   "cell_type": "code",
   "execution_count": null,
   "metadata": {
    "id": "BCQzgZxVIGg3"
   },
   "outputs": [],
   "source": []
  },
  {
   "cell_type": "markdown",
   "metadata": {
    "id": "HmxP500AIXfz"
   },
   "source": [
    "<a name=\"feature-engineering-and-selection\"></a>\n",
    "## Feature engineering and selection"
   ]
  },
  {
   "cell_type": "code",
   "execution_count": null,
   "metadata": {
    "id": "2gas6rsLIcMf"
   },
   "outputs": [],
   "source": []
  },
  {
   "cell_type": "markdown",
   "metadata": {
    "id": "UUwoxU1-IdIF"
   },
   "source": [
    "<a name=\"baseline-model-establishing\"></a>\n",
    "## Baseline model establishing"
   ]
  },
  {
   "cell_type": "code",
   "execution_count": null,
   "metadata": {
    "id": "LyxF8Ex4ImNo"
   },
   "outputs": [],
   "source": []
  },
  {
   "cell_type": "markdown",
   "metadata": {
    "id": "jI0J4KBLIsGE"
   },
   "source": [
    "<a name=\"models-comparison\"></a>\n",
    "## Models comparison"
   ]
  },
  {
   "cell_type": "code",
   "execution_count": null,
   "metadata": {
    "id": "mz4U8HjAIyXf"
   },
   "outputs": [],
   "source": []
  },
  {
   "cell_type": "markdown",
   "metadata": {
    "id": "_ZzkLE5bI1sE"
   },
   "source": [
    "<a name=\"hyperparameter-tuning\"></a>\n",
    "## Hyperparameter tuning"
   ]
  },
  {
   "cell_type": "code",
   "execution_count": null,
   "metadata": {
    "id": "RLSVcxW-I59Y"
   },
   "outputs": [],
   "source": []
  },
  {
   "cell_type": "markdown",
   "metadata": {
    "id": "OvVdlgG7I-U-"
   },
   "source": [
    "<a name=\"model-evaluation\"></a>\n",
    "## Model evaluation"
   ]
  },
  {
   "cell_type": "code",
   "execution_count": null,
   "metadata": {
    "id": "GEuxO_vCJCKH"
   },
   "outputs": [],
   "source": []
  },
  {
   "cell_type": "markdown",
   "metadata": {
    "id": "2xELKsenJFaS"
   },
   "source": [
    "<a name=\"results-interpretation\"></a>\n",
    "## Results interpretation"
   ]
  },
  {
   "cell_type": "code",
   "execution_count": null,
   "metadata": {
    "id": "bMhwuNlQJKL_"
   },
   "outputs": [],
   "source": []
  },
  {
   "cell_type": "markdown",
   "metadata": {
    "id": "tfEJp8yHJNlh"
   },
   "source": [
    "<a name=\"conclusion\"></a>\n",
    "## Conclusion"
   ]
  },
  {
   "cell_type": "code",
   "execution_count": null,
   "metadata": {
    "id": "E9R7pKy-JS5f"
   },
   "outputs": [],
   "source": []
  }
 ],
 "metadata": {
  "colab": {
   "include_colab_link": true,
   "provenance": []
  },
  "kernelspec": {
   "display_name": "Python 3",
   "name": "python3"
  },
  "language_info": {
   "name": "python"
  }
 },
 "nbformat": 4,
 "nbformat_minor": 0
}
