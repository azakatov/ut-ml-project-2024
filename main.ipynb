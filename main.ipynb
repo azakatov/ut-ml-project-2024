{
  "cells": [
    {
      "cell_type": "markdown",
      "metadata": {
        "id": "view-in-github",
        "colab_type": "text"
      },
      "source": [
        "<a href=\"https://colab.research.google.com/github/azakatov/ut-ml-project-2024/blob/update-colab-badge/main.ipynb\" target=\"_parent\"><img src=\"https://colab.research.google.com/assets/colab-badge.svg\" alt=\"Open In Colab\"/></a>"
      ]
    },
    {
      "cell_type": "markdown",
      "metadata": {
        "id": "mqOO1ODOD8Dh"
      },
      "source": [
        "# Classification with an academic success dataset\n",
        "\n",
        "* Project members: Andres Alumets, Anton Zakatov, Pihla Järv, Muhammad Sohaib Anwar\n",
        "* Github: https://github.com/azakatov/ut-ml-project-2024\n",
        "* Kaggle: https://www.kaggle.com/competitions/playground-series-s4e6/overview\n"
      ]
    },
    {
      "cell_type": "markdown",
      "metadata": {
        "id": "6pAGJ0RZGRGm"
      },
      "source": [
        "For this project we follow a workflow proposed by Will Koehrsen on https://github.com/WillKoehrsen/machine-learning-project-walkthrough/blob/master/Machine%20Learning%20Project%20Part%201.ipynb.\n",
        "\n",
        "Applying this workflow, our report has the following structure:\n",
        "\n",
        "1. [Setup](#setup)\n",
        "1. [Data cleaning and formatting](#data-cleaning-and-formatting)\n",
        "1. [Exploratory data analysis](#exploratory-data-analysis)\n",
        "1. [Feature engineering and selection](#feature-engineering-and-selection)\n",
        "1. [Baseline model establishing](#baseline-model-establishing)\n",
        "1. [Models comparison](#models-comparison)\n",
        "1. [Hyperparameter tuning](#hyperparameter-tuning)\n",
        "1. [Model evaluation](#model-evaluation)\n",
        "1. [Results interpretation](#results-interpretation)\n",
        "1. [Conclusion](#conclusion)"
      ]
    },
    {
      "cell_type": "markdown",
      "metadata": {
        "id": "OvglYGYbUcR7"
      },
      "source": [
        "<a name=\"setup\"></a>\n",
        "## Setup"
      ]
    },
    {
      "cell_type": "markdown",
      "metadata": {
        "id": "ijv5xycyXC5e"
      },
      "source": [
        "### Common imports"
      ]
    },
    {
      "cell_type": "code",
      "execution_count": 3,
      "metadata": {
        "id": "JbpesFP9Ueyt"
      },
      "outputs": [],
      "source": [
        "import numpy as np\n",
        "import pandas as pd\n",
        "\n",
        "# Show all columns in df\n",
        "pd.options.display.max_columns = None"
      ]
    },
    {
      "cell_type": "markdown",
      "metadata": {
        "id": "dncVCbUcXH0m"
      },
      "source": [
        "### Setting up Kaggle API"
      ]
    },
    {
      "cell_type": "code",
      "execution_count": null,
      "metadata": {
        "id": "GslKeb7ZWJSt"
      },
      "outputs": [],
      "source": [
        "from google.colab import files\n",
        "import json\n",
        "\n",
        "# Upload your Kaggle token to use its API\n",
        "files.upload();\n",
        "\n",
        "!mkdir /root/.kaggle/\n",
        "!mv kaggle.json /root/.kaggle/kaggle.json\n",
        "!chmod 600 ~/.kaggle/kaggle.json\n",
        "\n",
        "# Seems to work without this line but breaks data loading if present. Commenting it out\n",
        "#!kaggle config set -n path -v{/content}"
      ]
    },
    {
      "cell_type": "code",
      "execution_count": null,
      "metadata": {
        "id": "ynR5l90LWMe4"
      },
      "outputs": [],
      "source": [
        "# Load data\n",
        "!kaggle competitions download -c playground-series-s4e6\n",
        "!unzip playground-series-s4e6.zip"
      ]
    },
    {
      "cell_type": "markdown",
      "metadata": {
        "id": "h_0ygAz-E0Ib"
      },
      "source": [
        "<a name=\"data-cleaning-and-formatting\"></a>\n",
        "## Data cleaning and formatting"
      ]
    },
    {
      "cell_type": "code",
      "execution_count": null,
      "metadata": {
        "id": "PFflTGGXD1tY"
      },
      "outputs": [],
      "source": [
        "train = pd.read_csv('train.csv')\n",
        "test = pd.read_csv('test.csv')"
      ]
    },
    {
      "cell_type": "code",
      "execution_count": null,
      "metadata": {
        "id": "UBdfrA44X4NL"
      },
      "outputs": [],
      "source": [
        "train.head()"
      ]
    },
    {
      "cell_type": "markdown",
      "metadata": {
        "id": "s3850sxHIHwe"
      },
      "source": [
        "<a name=\"exploratory-data-analysis\"></a>\n",
        "## Exploratory data analysis"
      ]
    },
    {
      "cell_type": "code",
      "execution_count": null,
      "metadata": {
        "id": "BCQzgZxVIGg3"
      },
      "outputs": [],
      "source": []
    },
    {
      "cell_type": "markdown",
      "metadata": {
        "id": "HmxP500AIXfz"
      },
      "source": [
        "<a name=\"feature-engineering-and-selection\"></a>\n",
        "## Feature engineering and selection"
      ]
    },
    {
      "cell_type": "code",
      "execution_count": null,
      "metadata": {
        "id": "2gas6rsLIcMf"
      },
      "outputs": [],
      "source": []
    },
    {
      "cell_type": "markdown",
      "metadata": {
        "id": "UUwoxU1-IdIF"
      },
      "source": [
        "<a name=\"baseline-model-establishing\"></a>\n",
        "## Baseline model establishing"
      ]
    },
    {
      "cell_type": "code",
      "execution_count": null,
      "metadata": {
        "id": "LyxF8Ex4ImNo"
      },
      "outputs": [],
      "source": []
    },
    {
      "cell_type": "markdown",
      "metadata": {
        "id": "jI0J4KBLIsGE"
      },
      "source": [
        "<a name=\"models-comparison\"></a>\n",
        "## Models comparison"
      ]
    },
    {
      "cell_type": "code",
      "execution_count": null,
      "metadata": {
        "id": "mz4U8HjAIyXf"
      },
      "outputs": [],
      "source": []
    },
    {
      "cell_type": "markdown",
      "metadata": {
        "id": "_ZzkLE5bI1sE"
      },
      "source": [
        "<a name=\"hyperparameter-tuning\"></a>\n",
        "## Hyperparameter tuning"
      ]
    },
    {
      "cell_type": "code",
      "execution_count": null,
      "metadata": {
        "id": "RLSVcxW-I59Y"
      },
      "outputs": [],
      "source": []
    },
    {
      "cell_type": "markdown",
      "metadata": {
        "id": "OvVdlgG7I-U-"
      },
      "source": [
        "<a name=\"model-evaluation\"></a>\n",
        "## Model evaluation"
      ]
    },
    {
      "cell_type": "code",
      "execution_count": null,
      "metadata": {
        "id": "GEuxO_vCJCKH"
      },
      "outputs": [],
      "source": []
    },
    {
      "cell_type": "markdown",
      "metadata": {
        "id": "2xELKsenJFaS"
      },
      "source": [
        "<a name=\"results-interpretation\"></a>\n",
        "## Results interpretation"
      ]
    },
    {
      "cell_type": "code",
      "execution_count": null,
      "metadata": {
        "id": "bMhwuNlQJKL_"
      },
      "outputs": [],
      "source": []
    },
    {
      "cell_type": "markdown",
      "metadata": {
        "id": "tfEJp8yHJNlh"
      },
      "source": [
        "<a name=\"conclusion\"></a>\n",
        "## Conclusion"
      ]
    },
    {
      "cell_type": "code",
      "execution_count": null,
      "metadata": {
        "id": "E9R7pKy-JS5f"
      },
      "outputs": [],
      "source": []
    }
  ],
  "metadata": {
    "colab": {
      "provenance": [],
      "authorship_tag": "ABX9TyPwM+8mKRQP7ZfDQlpH89kv",
      "include_colab_link": true
    },
    "kernelspec": {
      "display_name": "Python 3",
      "name": "python3"
    },
    "language_info": {
      "name": "python"
    }
  },
  "nbformat": 4,
  "nbformat_minor": 0
}